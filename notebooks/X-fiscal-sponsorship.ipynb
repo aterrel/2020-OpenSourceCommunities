{
 "cells": [
  {
   "cell_type": "markdown",
   "metadata": {
    "slideshow": {
     "slide_type": "slide"
    }
   },
   "source": [
    "# Becoming Legal: A guide to fiscal sponsorship\n",
    "\n",
    "\n",
    "\n",
    "\n",
    "\n",
    "\n",
    "\n",
    "\n",
    "Presented by:\n",
    "Andy R. Terrel, PhD\n",
    "President, NumFOCUS"
   ]
  },
  {
   "cell_type": "markdown",
   "metadata": {
    "slideshow": {
     "slide_type": "slide"
    }
   },
   "source": [
    "## What is a legal entity?"
   ]
  },
  {
   "cell_type": "markdown",
   "metadata": {
    "slideshow": {
     "slide_type": "subslide"
    }
   },
   "source": [
    "an individual, company, or organization that has legal rights and obligations.\n"
   ]
  },
  {
   "cell_type": "markdown",
   "metadata": {
    "slideshow": {
     "slide_type": "subslide"
    }
   },
   "source": [
    "In your project who is responsible for assets and liabilities? \n",
    "\n",
    "How does the world know who is and is not speaking on behalf of the project? If not how can organizations partner with you?\n",
    "\n",
    "What happens when you discover the processes of your volunteer organization do not conform to legal standards?"
   ]
  },
  {
   "cell_type": "markdown",
   "metadata": {
    "slideshow": {
     "slide_type": "subslide"
    }
   },
   "source": [
    "<img src=\"VanityFair.png\">"
   ]
  },
  {
   "cell_type": "markdown",
   "metadata": {
    "slideshow": {
     "slide_type": "slide"
    }
   },
   "source": [
    "## When does my project need to become a legal entity?"
   ]
  },
  {
   "cell_type": "markdown",
   "metadata": {
    "slideshow": {
     "slide_type": "subslide"
    }
   },
   "source": [
    " Let's take an example of a well known, easy to follow, always successful business of \n",
    " \n",
    " STARTING A BAND"
   ]
  },
  {
   "cell_type": "markdown",
   "metadata": {
    "slideshow": {
     "slide_type": "slide"
    }
   },
   "source": [
    "## Pre-launch"
   ]
  },
  {
   "cell_type": "markdown",
   "metadata": {
    "slideshow": {
     "slide_type": "subslide"
    }
   },
   "source": [
    "You start your band as a solo artist with some practice and your favorite instrument.\n",
    "\n",
    "\n",
    "At this point, you are an individual. If your music career stops here, bummer but that was your individual decisions. Your only obligation is paying off the bill for that instrument. You own copyright on all the music you made but it's not going anywhere without some work."
   ]
  },
  {
   "cell_type": "markdown",
   "metadata": {
    "slideshow": {
     "slide_type": "subslide"
    }
   },
   "source": [
    "|             | Assets      | Liabilities   |\n",
    "| ----------- | ----------- | ------------- |\n",
    "| **Solo Artist** | Copyrights  | Personal Debt |"
   ]
  },
  {
   "cell_type": "markdown",
   "metadata": {
    "slideshow": {
     "slide_type": "slide"
    }
   },
   "source": [
    "## First Gig"
   ]
  },
  {
   "cell_type": "markdown",
   "metadata": {
    "slideshow": {
     "slide_type": "subslide"
    }
   },
   "source": [
    "You got a gig! You sign a contract.\n",
    "\n",
    "You show up, play your songs and a few covers then pocket some cash.\n",
    "\n",
    "You keep doing this and keep it on your own. The gig turns into a recuring event and you now have a new obligation every week.\n",
    "\n",
    "The covers were not exactly licensed but hey nobody cares about a kid making a start!"
   ]
  },
  {
   "cell_type": "markdown",
   "metadata": {
    "slideshow": {
     "slide_type": "subslide"
    }
   },
   "source": [
    "|             | Assets      | Liabilities   |\n",
    "| ----------- | ----------- | ------------- |\n",
    "| **Solo Artist** | Copyrights  | Personal Debt |\n",
    "|                 | Accounts Recievable | Weekly Performance |"
   ]
  },
  {
   "cell_type": "markdown",
   "metadata": {
    "slideshow": {
     "slide_type": "slide"
    }
   },
   "source": [
    "## Bringing on a Team"
   ]
  },
  {
   "cell_type": "markdown",
   "metadata": {
    "slideshow": {
     "slide_type": "subslide"
    }
   },
   "source": [
    "You tire of the same gigs and you start playing with some friends on your off nights.\n",
    "\n",
    "Ya'll make a few songs together, friends start playing at your shows"
   ]
  },
  {
   "cell_type": "markdown",
   "metadata": {
    "slideshow": {
     "slide_type": "subslide"
    }
   },
   "source": [
    "|             | Assets      | Liabilities   |\n",
    "| ----------- | ----------- | ------------- |\n",
    "| **Solo Artist** | Copyrights  | Personal Debt |\n",
    "|                 | Accounts Recievable | Weekly Performance |\n",
    "| **Other team members**        | Shared Copyrights |  | "
   ]
  },
  {
   "cell_type": "markdown",
   "metadata": {
    "slideshow": {
     "slide_type": "subslide"
    }
   },
   "source": [
    "Whoa, you notice that you have all this debt but the rest of the band is getting credit for all your work.\n",
    "\n",
    "Talk to the team and they decide to start spliting some of the liabilities. You create a simple company to draft the management plan and share the assets and liabilities. There are many different types of companies but that is beyond our scope."
   ]
  },
  {
   "cell_type": "markdown",
   "metadata": {
    "slideshow": {
     "slide_type": "subslide"
    }
   },
   "source": [
    "|             | Assets      | Liabilities   |\n",
    "| ----------- | ----------- | ------------- |\n",
    "| **Band**    | Copyrights  | Protected Debt |\n",
    "|             | Accounts Recievable | Weekly Performance |\n",
    "|             |             | Salary / Dividends   |\n"
   ]
  },
  {
   "cell_type": "markdown",
   "metadata": {
    "slideshow": {
     "slide_type": "slide"
    }
   },
   "source": [
    "## Handling an imposter"
   ]
  },
  {
   "cell_type": "markdown",
   "metadata": {
    "slideshow": {
     "slide_type": "subslide"
    }
   },
   "source": [
    "Your gigs are getting popular, so much so that folks down the street hired a band that plays all the same covers as you do and a few of your songs.\n",
    "\n",
    "You run to an attorney and find out that it's going to be really hard to litigate against as you have scant evidence of your name associated with those song. \n",
    "\n",
    "But my harddrive has a date on it!!!! \n",
    "\n",
    "Attorney helps you register your copyright and a trademark to help protect your band's work."
   ]
  },
  {
   "cell_type": "markdown",
   "metadata": {
    "slideshow": {
     "slide_type": "subslide"
    }
   },
   "source": [
    "|             | Assets                | Liabilities   |\n",
    "| ----------- | -----------           | ------------- |\n",
    "| **Band**    | Registered Copyrights | Protected Debt |\n",
    "|             | Accounts Recievable   | Weekly Performance |\n",
    "|             | Registered Trademark  | Salary / Dividends   |\n"
   ]
  },
  {
   "cell_type": "markdown",
   "metadata": {
    "slideshow": {
     "slide_type": "slide"
    }
   },
   "source": [
    "## Signing a contract"
   ]
  },
  {
   "cell_type": "markdown",
   "metadata": {
    "slideshow": {
     "slide_type": "subslide"
    }
   },
   "source": [
    "One of your shows, an agent wants to work with you. \n",
    "\n",
    "Since you already have an entity, its a quick signature with the recording company licensing your work in exchange for royalties and some profits from concerts."
   ]
  },
  {
   "cell_type": "markdown",
   "metadata": {
    "slideshow": {
     "slide_type": "subslide"
    }
   },
   "source": [
    "|             | Assets      | Liabilities   |\n",
    "| ----------- | ----------- | ------------- |\n",
    "| **Band**    | Registered Copyrights  | Protected Debt |\n",
    "|             | Accounts Recievable | Weekly Performance |\n",
    "|             | Registered Trademark | Salary / Dividends   |\n",
    "| **Recording Company** | License | Royalty Fees |\n",
    "|                       | Concert rights | Concert operations expenses |\n"
   ]
  },
  {
   "cell_type": "markdown",
   "metadata": {
    "slideshow": {
     "slide_type": "slide"
    }
   },
   "source": [
    "## Hiring an administrator\n"
   ]
  },
  {
   "cell_type": "markdown",
   "metadata": {
    "slideshow": {
     "slide_type": "subslide"
    }
   },
   "source": [
    "The number of shows, the copyrights, the trademarks, the deals all of it is flying by and you are having a hard time keeping up.\n",
    "\n",
    "How are you going to keep this up, and what does it mean for your career? Can you quit your day job yet or not? \n",
    "\n",
    "Enter the administrator, there for budgeting, projecting, and generally helping with all sorts of things. Now your band has a plan (no really you can actually patent those plans)!\n"
   ]
  },
  {
   "cell_type": "markdown",
   "metadata": {
    "slideshow": {
     "slide_type": "subslide"
    }
   },
   "source": [
    "|             | Assets      | Liabilities   |\n",
    "| ----------- | ----------- | ------------- |\n",
    "| **Band**    | Registered Copyrights  | Protected Debt |\n",
    "|             | Accounts Recievable | Weekly Performance |\n",
    "|             | Registered Trademark | Salary / Dividends   |\n",
    "|             | Business Plan        | Administration Overheads |\n",
    "| **Recording Company** | License | Royalty Fees |\n",
    "|                       | Concert rights | Concert operations expenses |\n"
   ]
  },
  {
   "cell_type": "markdown",
   "metadata": {
    "slideshow": {
     "slide_type": "subslide"
    }
   },
   "source": [
    "The administrator started tweeting about her new gig and guess what, you got sponsors wanting you to wear their gear on stage. \n",
    "\n",
    "Now you can get endorsed and manage not take away from practice time for the band."
   ]
  },
  {
   "cell_type": "markdown",
   "metadata": {
    "slideshow": {
     "slide_type": "subslide"
    }
   },
   "source": [
    "|             | Assets      | Liabilities   |\n",
    "| ----------- | ----------- | ------------- |\n",
    "| **Band**    | Registered Copyrights  | Protected Debt |\n",
    "|             | Accounts Recievable | Weekly Performance |\n",
    "|             | Registered Trademark | Salary / Dividends   |\n",
    "|             | Business Plan        | Administration Overheads |\n",
    "|             | Endorsement Contracts | Endorsement Obligations |\n",
    "|             | Public / Media Relations  |                         |\n",
    "| **Recording Company** | License | Royalty Fees |\n",
    "|                       | Concert rights | Concert operations expenses |"
   ]
  },
  {
   "cell_type": "markdown",
   "metadata": {
    "slideshow": {
     "slide_type": "slide"
    }
   },
   "source": [
    "## Running your own event\n"
   ]
  },
  {
   "cell_type": "markdown",
   "metadata": {
    "slideshow": {
     "slide_type": "subslide"
    }
   },
   "source": [
    "You crunch the numbers and you figure out you can start doing your own events and recording. Now you need to hire people and build the empire.\n",
    "\n",
    "Doing this turns out to be a lot more complicated as you have payroll, taxes, health insurance, and a lot more compliance to follow. Also venues require proof of credit, insurance, and large downpayments to reserve their space.\n",
    "\n",
    "The Administration overhead can go through the roof, but luckily your administrator can set you up with a Professional Employment Organization (PEO) and can handle all the insurance needs seamlessly.\n",
    "\n",
    "You keep rocking and let the business roll."
   ]
  },
  {
   "cell_type": "markdown",
   "metadata": {
    "slideshow": {
     "slide_type": "subslide"
    }
   },
   "source": [
    "|             | Assets      | Liabilities   |\n",
    "| ----------- | ----------- | ------------- |\n",
    "| **Band**    | Registered Copyrights  | Protected Debt |\n",
    "|             | Accounts Recievable | Weekly Performance |\n",
    "|             | Registered Trademark | Salary / Dividends   |\n",
    "|             | Business Plan        | Administration Overheads |\n",
    "|             | Endorsement Contracts | Endorsement Obligations |\n",
    "|             | Public / Media Relations  |                         |\n",
    "|             | Event profits         | Event management        |"
   ]
  },
  {
   "cell_type": "markdown",
   "metadata": {
    "slideshow": {
     "slide_type": "slide"
    }
   },
   "source": [
    "# Fiscal Sponsorship versus your own org"
   ]
  },
  {
   "cell_type": "markdown",
   "metadata": {
    "slideshow": {
     "slide_type": "subslide"
    }
   },
   "source": [
    "In the story of the band, the only differences with your org is that usually OSS projects are not for profit and they don't have any license fees associated with using them.\n",
    "\n",
    "All other assets and liabilities can come into play.\n",
    "\n",
    "But without the profit form license fees, how do you pay all these folks ... enter a fiscal sponsor."
   ]
  },
  {
   "cell_type": "markdown",
   "metadata": {
    "slideshow": {
     "slide_type": "subslide"
    }
   },
   "source": [
    "|             | Assets      | Liabilities   |\n",
    "| ----------- | ----------- | ------------- |\n",
    "| **Project** | ~~Registered~~ Copyrights  | Protected Debt |\n",
    "|             | Accounts Recievable | ~~Weekly Performance~~ Maintenance|\n",
    "|             | Registered Trademark | Salary ~~/ Dividends~~   |\n",
    "|             | ~~License Fees~~         |                          |\n",
    "|             | Business Plan        | Administration Overheads |\n",
    "|             | Endorsement Contracts | Endorsement Obligations |\n",
    "|             | Public / Media Relations  |                         |\n",
    "|             | Event profits         | Event management        |"
   ]
  },
  {
   "cell_type": "markdown",
   "metadata": {
    "slideshow": {
     "slide_type": "subslide"
    }
   },
   "source": [
    "The Fiscal Sponsorship agreement takes the place of forming your own company, and sets up an arrangement for managing the legal entity of your project. By using the sponsors non-profit status, you are able to accept donations and enter contracts on behalf of your project without all the personal risk."
   ]
  },
  {
   "cell_type": "markdown",
   "metadata": {
    "slideshow": {
     "slide_type": "subslide"
    }
   },
   "source": [
    ">Using a fiscal sponsorship arrangement offers a way for a cause to attract donors even when it is not yet recognized as tax-exempt under Internal Revenue Code Section 501(c)(3). In essence the fiscal sponsor serves as the administrative \"home\" of the cause. Charitable contributions are given to the fiscal sponsor, which then grants them to support the cause. \n",
    "\n",
    "-- National Council for Non-Profits"
   ]
  },
  {
   "cell_type": "markdown",
   "metadata": {
    "slideshow": {
     "slide_type": "slide"
    }
   },
   "source": [
    "## Advocacy"
   ]
  },
  {
   "cell_type": "markdown",
   "metadata": {
    "slideshow": {
     "slide_type": "slide"
    }
   },
   "source": [
    "<img src=\"DFF_Tweet.png\">"
   ]
  },
  {
   "cell_type": "markdown",
   "metadata": {
    "slideshow": {
     "slide_type": "slide"
    }
   },
   "source": [
    "# https://numfocus.org/\n",
    "\n",
    "<img src=\"NumFOCUS.png\">"
   ]
  }
 ],
 "metadata": {
  "celltoolbar": "Slideshow",
  "kernelspec": {
   "display_name": "Python 3",
   "language": "python",
   "name": "python3"
  },
  "language_info": {
   "codemirror_mode": {
    "name": "ipython",
    "version": 3
   },
   "file_extension": ".py",
   "mimetype": "text/x-python",
   "name": "python",
   "nbconvert_exporter": "python",
   "pygments_lexer": "ipython3",
   "version": "3.7.6"
  }
 },
 "nbformat": 4,
 "nbformat_minor": 4
}
